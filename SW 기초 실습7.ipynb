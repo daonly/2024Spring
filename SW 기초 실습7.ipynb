{
 "cells": [
  {
   "cell_type": "markdown",
   "id": "48162ee9",
   "metadata": {},
   "source": [
    "# 모듈과 라이브러리 05/10/2024\n",
    "\n",
    "Written by Daon Lee (daonlyforus@gmail.com)\n",
    "</br></br>여러분은 왜 코딩을 배우나요? \n",
    "</br>아마 코딩 자체가 **목적**인 학생들보다는, 내가 원하는 목적에 맞게 코딩을 **활용**하고 싶어서 배우려는 학생들이 대부분일 거예요 :)\n",
    "<br>그래서 오늘은 코딩을 제대로 써먹기 위해서는 꼭 알아둬야 할 \"모듈\"과 \"라이브러리\"에 대해 알아보겠습니다👏🏻👏🏻"
   ]
  },
  {
   "cell_type": "markdown",
   "id": "8b114ff6",
   "metadata": {},
   "source": [
    "## 모듈과 라이브러리, 그게 뭔데?\n",
    "우선 이름부터 생소한 모듈과 라이브러리의 정체를 알아봅시다🧐\n",
    "</br>우리가 완성하고자 하는 코드가  **블록 집**🏠이라고 한다면, 모듈은 **블록 조각**🧩이고 라이브러리는 블록 조각을 담아둔 **장난감 상자**🎁라고 볼 수 있어요!\n",
    "</br></br>블록 집을 만들 때 우리가 플라스틱으로 블록 조각을 직접 만들지 않고 이미 만들어진 블록 조각을 사용하는 것처럼, 코드를 작성할 때도 A부터 Z까지 우리가 직접 작성하는 게 아니라 **이미 만들어져 있는 코드 조각**을 사용할 수 있는 거죠 (｡•̀ᴗ-)✧\n",
    "</br></br>그럼 이제 파이썬에서의 모듈과 라이브러리에 대해 본격적으로 배워볼까요?"
   ]
  },
  {
   "cell_type": "markdown",
   "id": "689f22d5",
   "metadata": {},
   "source": [
    "## 모듈이랑 친해지기!\n",
    "파이썬에서 모듈은 클래스, 함수, 변수들을 포함하며 특정 기능을 수행하는 .py 확장자를 가지는 파일로 정의돼요!\n",
    "</br>한 마디로 **코드 조각**🧩이라고 볼 수 있는 이 모듈을 활용해서 프로그래밍을 하면, 그때그때 필요한 기능을 호출하여 사용할 수 있으므로 아주 편리하답니다🙊\n",
    "</br></br>이러한 모듈에는 크게 세 가지 종류가 있어요!\n",
    "</br>1️⃣ **표준 모듈**: 파이썬에서 제공하는 기본 모듈이에요. \n",
    "</br>2️⃣ **사용자 정의 모듈**: 사용자(프로그래머)가 직접 만든 클래스, 함수, 변수 등을 모듈화하여 사용하는 거예요.\n",
    "</br>3️⃣ **3rd Party 모듈**: 다른 기업이나 단체 등에서 특정 기술을 사용할 수 있도록 만들어 둔 모듈이에요. 외부 모듈을 사용하기 위해서는 우선 pip 명령어를 이용해 설치 과정을 거쳐야 해요.\n",
    "</br></br>모듈을 사용하기 위해서는 원하는 모듈을 호출해야 하는데요, 모듈을 호출하는 방법에도 여러가지가 있답니다😲"
   ]
  },
  {
   "cell_type": "code",
   "execution_count": 1,
   "id": "f34179ec",
   "metadata": {
    "ExecuteTime": {
     "end_time": "2024-05-08T00:38:05.078240Z",
     "start_time": "2024-05-08T00:38:05.019882Z"
    }
   },
   "outputs": [
    {
     "name": "stdout",
     "output_type": "stream",
     "text": [
      "[0 1 2 3 4 5 6 7 8 9]\n",
      "[0 1 2 3 4 5 6 7 8 9]\n",
      "[0 1 2 3 4 5 6 7 8 9]\n"
     ]
    }
   ],
   "source": [
    "### 모듈 호출하기\n",
    "\n",
    "## (1) import: 모듈을 통째로 부르기.\n",
    "## 모듈을 통째로 호출했으므로, 함수를 사용할 때는 \"모듈명.함수명()\"을 사용해야 함.\n",
    "## 모듈 내의 다양한 함수가 필요할 때 추천!\n",
    "\n",
    "import numpy              # 기본 방법\n",
    "import numpy as np        # 꿀 방법: 모듈명을 자주 입력해야 하므로 이렇게 줄여서 호출하는 걸 추천!\n",
    "print(np.arange(0, 10)) \n",
    "\n",
    "## (2) from import: 모듈 안의 특정 함수만 부르기.\n",
    "## 특정 함수만 호출했으므로, 함수를 사용할 때는 \"함수명()\"으로 바로 활용할 수 있음.\n",
    "## 모듈 내의 특정 함수만 필요한 경우에 추천!\n",
    "\n",
    "from numpy import arange  # numpy 패키지 중 arange라는 함수를 호출 \n",
    "print(arange(0, 10))\n",
    "\n",
    "## (3) 혹시 from import를 써서 모듈 내의 모든 함수를 부르고 싶다면?\n",
    "## 자주 사용되는 방식은 아니지만 가능함...\n",
    "\n",
    "from numpy import*        # numpy 패키지 안에 있는 모든 함수를 호출\n",
    "print(arange(0, 10))"
   ]
  },
  {
   "cell_type": "markdown",
   "id": "3fee4389",
   "metadata": {},
   "source": [
    "모듈! 이제 조금 감이 오나요오??\n",
    "</br>그럼 이제 방금 배운 모듈의 예시를 알아보면 좋을 것 같은데요, 다들 지난주 실습 자료에 있었던 로또 번호 생성 함수를 기억하나요?🫢\n",
    "</br>그 함수에서 사용했던 random 역시 대표적인 표준 모듈 중 하나랍니다!\n",
    "</br>그럼 지난주에 당첨되지 못한 분들을 위해서~ 이번주의 🔴로또💸번호도 한번 더 생성해볼까요?\n",
    "</br>(P.S. 이번주에는 함수를 정의하지 않아서 더 짧은 코드만으로 해낼 수 있어요😏)"
   ]
  },
  {
   "cell_type": "code",
   "execution_count": 3,
   "id": "e700f8ae",
   "metadata": {
    "ExecuteTime": {
     "end_time": "2024-05-08T00:36:03.884151Z",
     "start_time": "2024-05-08T00:36:01.821352Z"
    }
   },
   "outputs": [
    {
     "name": "stdout",
     "output_type": "stream",
     "text": [
      "몇 게임 하실 건가요? 5\n"
     ]
    }
   ],
   "source": [
    "### 게임 수를 입력받고, 로또 번호를 자동으로 생성\n",
    "\n",
    "import random as rd    # random 모듈 호출\n",
    "\n",
    "game_no = int(input('몇 게임 하실 건가요? '))  #게임 수를 입력으로 받기\n",
    "print('꼭 당첨되세요! 여기 있습니다 :)')\n",
    "\n",
    "for i in range(game_no):\n",
    "    lotto45 = list(range(1, 46))  # 1부터 45까지의 숫자 생성\n",
    "    lotto6 = rd.sample(lotto45, 6)  # 임의의 6개 숫자 샘플링\n",
    "    lotto6 = sorted(lotto6)  # sorted() 내장함수 사용, 오름차순 정렬\n",
    "    print(lotto6)"
   ]
  },
  {
   "cell_type": "markdown",
   "id": "abfdd9b0",
   "metadata": {},
   "source": [
    "## 라이브러리랑 친해지기!\n",
    "라이브러리(a.k.a. 패키지)는 이런 모듈을 모아두고 관리하는 상위 폴더(디렉토리)로 정의돼요!\n",
    "</br>한 마디로 여러 코드 조각들을 모아둔 **코드 상자**🎁라고 볼 수 있는 이 라이브러리로는 정말 많은 기능을 수행할 수 있겠죠??😉\n",
    "</br>파이썬에서 제공하는 대표적인 라이브러리로는 Numpy(계산), Pandas(데이터 처리 및 분석), Matplotlib(시각화)가 있답니다 :)\n",
    "\n",
    "특히 Pandas는 데이터 처리와 분석을 위해 정말 많이 사용되는 패키지예요!\n",
    "</br>행과 열로 이루어진 데이터 객체를 만들어 다룰 수 있고, 대용량의 데이터를 처리하는 데 아주 편리하게 사용할 수 있어요👍🏻\n",
    "\n",
    "본격적으로 Pandas를 활용해보기 전에, 여러분들에게 주어진 🚨깜짝 미션🚨!!\n",
    "</br>엑셀 파일 하나를 코들에 업로드해야 하는데요, 좌측 상단에 보이는 <u>⬆️</u> 버튼을 클릭해서 \"salaries.xlsm\" 파일을 열어주세요 :)\n",
    "</br>\"SW 기초 실습7.ipynb\" 파일 위에 \"salaries.xlsm\" 파일이 보인다면 미션 성공!\n",
    "</br></br>그럼 이제 Pandas와 함께 2024년 Machine Learning 엔지니어들의 연봉을 알아볼까요...!😲"
   ]
  },
  {
   "cell_type": "code",
   "execution_count": 3,
   "id": "fbeea3af",
   "metadata": {
    "ExecuteTime": {
     "end_time": "2024-05-08T00:32:56.685223Z",
     "start_time": "2024-05-08T00:32:55.645216Z"
    }
   },
   "outputs": [
    {
     "name": "stdout",
     "output_type": "stream",
     "text": [
      "(16494, 11)\n",
      "<class 'pandas.core.frame.DataFrame'>\n",
      "Index: 16494 entries, 1 to 16494\n",
      "Data columns (total 11 columns):\n",
      " #   Column              Non-Null Count  Dtype \n",
      "---  ------              --------------  ----- \n",
      " 0   work_year           16494 non-null  int64 \n",
      " 1   experience_level    16494 non-null  object\n",
      " 2   employment_type     16494 non-null  object\n",
      " 3   job_title           16494 non-null  object\n",
      " 4   salary              16494 non-null  int64 \n",
      " 5   salary_currency     16494 non-null  object\n",
      " 6   salary_in_usd       16494 non-null  int64 \n",
      " 7   employee_residence  16494 non-null  object\n",
      " 8   remote_ratio        16494 non-null  int64 \n",
      " 9   company_location    16494 non-null  object\n",
      " 10  company_size        16494 non-null  object\n",
      "dtypes: int64(4), object(7)\n",
      "memory usage: 1.5+ MB\n",
      "None\n"
     ]
    }
   ],
   "source": [
    "### Machine Learning Engineer Salary in 2024\n",
    "### Data reference: https://www.kaggle.com/datasets/chopper53/machine-learning-engineer-salary-in-2024?resource=download\n",
    "\n",
    "import pandas as pd  # Pandas 호출\n",
    "df = pd.read_excel('/Users/daonly/Library/Mobile Documents/com~apple~CloudDocs/KOREA/2024-1/SW프로그래밍의기초/salaries.xlsm', index_col=0)  # 파일 불러오기 (0번째 열을 index column으로 지정)\n",
    "\n",
    "print(df.shape)  # 데이터의 크기\n",
    "\n",
    "print(df.info())  # 데이터에 있는 칼럼의 정보를 추출"
   ]
  },
  {
   "cell_type": "code",
   "execution_count": null,
   "id": "1e10c914",
   "metadata": {
    "ExecuteTime": {
     "start_time": "2024-05-08T00:32:59.019Z"
    }
   },
   "outputs": [],
   "source": [
    "# 데이터프레임의 첫 5개 행의 데이터를 확인 \n",
    "# cf. 마지막을 보고싶다면 tail을 사용!\n",
    "\n",
    "df.head(5)"
   ]
  },
  {
   "cell_type": "code",
   "execution_count": 3,
   "id": "168b72c3",
   "metadata": {
    "ExecuteTime": {
     "end_time": "2024-05-07T14:46:41.189443Z",
     "start_time": "2024-05-07T14:46:41.180059Z"
    }
   },
   "outputs": [
    {
     "data": {
      "text/html": [
       "<div>\n",
       "<style scoped>\n",
       "    .dataframe tbody tr th:only-of-type {\n",
       "        vertical-align: middle;\n",
       "    }\n",
       "\n",
       "    .dataframe tbody tr th {\n",
       "        vertical-align: top;\n",
       "    }\n",
       "\n",
       "    .dataframe thead th {\n",
       "        text-align: right;\n",
       "    }\n",
       "</style>\n",
       "<table border=\"1\" class=\"dataframe\">\n",
       "  <thead>\n",
       "    <tr style=\"text-align: right;\">\n",
       "      <th></th>\n",
       "      <th>work_year</th>\n",
       "      <th>salary</th>\n",
       "      <th>salary_in_usd</th>\n",
       "      <th>remote_ratio</th>\n",
       "    </tr>\n",
       "  </thead>\n",
       "  <tbody>\n",
       "    <tr>\n",
       "      <th>count</th>\n",
       "      <td>16494.000000</td>\n",
       "      <td>1.649400e+04</td>\n",
       "      <td>16494.000000</td>\n",
       "      <td>16494.000000</td>\n",
       "    </tr>\n",
       "    <tr>\n",
       "      <th>mean</th>\n",
       "      <td>2023.224991</td>\n",
       "      <td>1.637878e+05</td>\n",
       "      <td>149713.575725</td>\n",
       "      <td>32.044986</td>\n",
       "    </tr>\n",
       "    <tr>\n",
       "      <th>std</th>\n",
       "      <td>0.713405</td>\n",
       "      <td>3.406017e+05</td>\n",
       "      <td>68516.136918</td>\n",
       "      <td>46.260201</td>\n",
       "    </tr>\n",
       "    <tr>\n",
       "      <th>min</th>\n",
       "      <td>2020.000000</td>\n",
       "      <td>1.400000e+04</td>\n",
       "      <td>15000.000000</td>\n",
       "      <td>0.000000</td>\n",
       "    </tr>\n",
       "    <tr>\n",
       "      <th>25%</th>\n",
       "      <td>2023.000000</td>\n",
       "      <td>1.020000e+05</td>\n",
       "      <td>101517.500000</td>\n",
       "      <td>0.000000</td>\n",
       "    </tr>\n",
       "    <tr>\n",
       "      <th>50%</th>\n",
       "      <td>2023.000000</td>\n",
       "      <td>1.422000e+05</td>\n",
       "      <td>141300.000000</td>\n",
       "      <td>0.000000</td>\n",
       "    </tr>\n",
       "    <tr>\n",
       "      <th>75%</th>\n",
       "      <td>2024.000000</td>\n",
       "      <td>1.873422e+05</td>\n",
       "      <td>185900.000000</td>\n",
       "      <td>100.000000</td>\n",
       "    </tr>\n",
       "    <tr>\n",
       "      <th>max</th>\n",
       "      <td>2024.000000</td>\n",
       "      <td>3.040000e+07</td>\n",
       "      <td>800000.000000</td>\n",
       "      <td>100.000000</td>\n",
       "    </tr>\n",
       "  </tbody>\n",
       "</table>\n",
       "</div>"
      ],
      "text/plain": [
       "          work_year        salary  salary_in_usd  remote_ratio\n",
       "count  16494.000000  1.649400e+04   16494.000000  16494.000000\n",
       "mean    2023.224991  1.637878e+05  149713.575725     32.044986\n",
       "std        0.713405  3.406017e+05   68516.136918     46.260201\n",
       "min     2020.000000  1.400000e+04   15000.000000      0.000000\n",
       "25%     2023.000000  1.020000e+05  101517.500000      0.000000\n",
       "50%     2023.000000  1.422000e+05  141300.000000      0.000000\n",
       "75%     2024.000000  1.873422e+05  185900.000000    100.000000\n",
       "max     2024.000000  3.040000e+07  800000.000000    100.000000"
      ]
     },
     "execution_count": 3,
     "metadata": {},
     "output_type": "execute_result"
    }
   ],
   "source": [
    "# 데이터의 대략적인 통계 정보를 반환\n",
    "\n",
    "df.describe()  "
   ]
  },
  {
   "cell_type": "code",
   "execution_count": 4,
   "id": "3be25368",
   "metadata": {
    "ExecuteTime": {
     "end_time": "2024-05-07T14:46:41.390562Z",
     "start_time": "2024-05-07T14:46:41.378305Z"
    }
   },
   "outputs": [
    {
     "data": {
      "text/plain": [
       "salary_in_usd\n",
       "150000    342\n",
       "100000    316\n",
       "130000    299\n",
       "160000    286\n",
       "140000    265\n",
       "         ... \n",
       "139777      1\n",
       "323700      1\n",
       "111300      1\n",
       "51283       1\n",
       "94665       1\n",
       "Name: count, Length: 2931, dtype: int64"
      ]
     },
     "execution_count": 4,
     "metadata": {},
     "output_type": "execute_result"
    }
   ],
   "source": [
    "# 특정 칼럼에 있는 값들의 빈도 분포를 확인\n",
    "\n",
    "df['salary_in_usd'].value_counts()"
   ]
  },
  {
   "cell_type": "markdown",
   "id": "ba4ec03f",
   "metadata": {},
   "source": [
    "어때요? 패키지를 사용하니까 아주 간단한 코드로도 멋진 일들을 해낼 수 있죠 ¯\\\\(ツ)/¯\n",
    "</br></br>그럼 이번엔 파이썬의 또 다른 대표 라이브러리인 Matplotlib📊를 사용해볼까요?\n",
    "</br>방금 만든 'salary_in_usd' 칼럼에 있는 값들의 빈도분포표를 막대그래프로 그려보아요!"
   ]
  },
  {
   "cell_type": "markdown",
   "id": "bca71fb9",
   "metadata": {},
   "source": [
    "본격적으로 그래프를 그리기에 앞서, 아주 간단한 데이터 전처리 몇가지를 해볼까요?😉"
   ]
  },
  {
   "cell_type": "code",
   "execution_count": 4,
   "id": "442a9c24",
   "metadata": {
    "ExecuteTime": {
     "end_time": "2024-05-08T00:28:46.263074Z",
     "start_time": "2024-05-08T00:28:46.247940Z"
    }
   },
   "outputs": [],
   "source": [
    "### 데이터 전처리 맛보기!\n",
    "\n",
    "## 빈도분포표를 데이터프레임으로 만들기\n",
    "value_counts_df = df['salary_in_usd'].value_counts().reset_index()\n",
    "\n",
    "## 결측치 제거\n",
    "value_counts_df.dropna(axis=0,inplace=True) #axis는 행으로 설정하고, inplace 파라미터는 해당 df 자체를 수정하도록 설정\n",
    "\n",
    "## 빈도수가 100 미만인 행 제거\n",
    "value_counts_df = value_counts_df[value_counts_df['count'] >= 100]"
   ]
  },
  {
   "cell_type": "code",
   "execution_count": 5,
   "id": "0dc0e808",
   "metadata": {
    "ExecuteTime": {
     "end_time": "2024-05-07T15:42:55.560417Z",
     "start_time": "2024-05-07T15:42:55.541326Z"
    }
   },
   "outputs": [
    {
     "data": {
      "text/html": [
       "<div>\n",
       "<style scoped>\n",
       "    .dataframe tbody tr th:only-of-type {\n",
       "        vertical-align: middle;\n",
       "    }\n",
       "\n",
       "    .dataframe tbody tr th {\n",
       "        vertical-align: top;\n",
       "    }\n",
       "\n",
       "    .dataframe thead th {\n",
       "        text-align: right;\n",
       "    }\n",
       "</style>\n",
       "<table border=\"1\" class=\"dataframe\">\n",
       "  <thead>\n",
       "    <tr style=\"text-align: right;\">\n",
       "      <th></th>\n",
       "      <th>salary_in_usd</th>\n",
       "      <th>count</th>\n",
       "    </tr>\n",
       "  </thead>\n",
       "  <tbody>\n",
       "    <tr>\n",
       "      <th>0</th>\n",
       "      <td>150000</td>\n",
       "      <td>342</td>\n",
       "    </tr>\n",
       "    <tr>\n",
       "      <th>1</th>\n",
       "      <td>100000</td>\n",
       "      <td>316</td>\n",
       "    </tr>\n",
       "    <tr>\n",
       "      <th>2</th>\n",
       "      <td>130000</td>\n",
       "      <td>299</td>\n",
       "    </tr>\n",
       "    <tr>\n",
       "      <th>3</th>\n",
       "      <td>160000</td>\n",
       "      <td>286</td>\n",
       "    </tr>\n",
       "    <tr>\n",
       "      <th>4</th>\n",
       "      <td>140000</td>\n",
       "      <td>265</td>\n",
       "    </tr>\n",
       "    <tr>\n",
       "      <th>5</th>\n",
       "      <td>120000</td>\n",
       "      <td>252</td>\n",
       "    </tr>\n",
       "    <tr>\n",
       "      <th>6</th>\n",
       "      <td>200000</td>\n",
       "      <td>218</td>\n",
       "    </tr>\n",
       "    <tr>\n",
       "      <th>7</th>\n",
       "      <td>110000</td>\n",
       "      <td>203</td>\n",
       "    </tr>\n",
       "    <tr>\n",
       "      <th>8</th>\n",
       "      <td>180000</td>\n",
       "      <td>201</td>\n",
       "    </tr>\n",
       "    <tr>\n",
       "      <th>9</th>\n",
       "      <td>170000</td>\n",
       "      <td>188</td>\n",
       "    </tr>\n",
       "    <tr>\n",
       "      <th>10</th>\n",
       "      <td>90000</td>\n",
       "      <td>164</td>\n",
       "    </tr>\n",
       "    <tr>\n",
       "      <th>11</th>\n",
       "      <td>145000</td>\n",
       "      <td>163</td>\n",
       "    </tr>\n",
       "    <tr>\n",
       "      <th>12</th>\n",
       "      <td>136000</td>\n",
       "      <td>162</td>\n",
       "    </tr>\n",
       "    <tr>\n",
       "      <th>13</th>\n",
       "      <td>175000</td>\n",
       "      <td>158</td>\n",
       "    </tr>\n",
       "    <tr>\n",
       "      <th>14</th>\n",
       "      <td>135000</td>\n",
       "      <td>156</td>\n",
       "    </tr>\n",
       "    <tr>\n",
       "      <th>15</th>\n",
       "      <td>115000</td>\n",
       "      <td>146</td>\n",
       "    </tr>\n",
       "    <tr>\n",
       "      <th>16</th>\n",
       "      <td>80000</td>\n",
       "      <td>140</td>\n",
       "    </tr>\n",
       "    <tr>\n",
       "      <th>17</th>\n",
       "      <td>190000</td>\n",
       "      <td>140</td>\n",
       "    </tr>\n",
       "    <tr>\n",
       "      <th>18</th>\n",
       "      <td>185000</td>\n",
       "      <td>138</td>\n",
       "    </tr>\n",
       "    <tr>\n",
       "      <th>19</th>\n",
       "      <td>125000</td>\n",
       "      <td>133</td>\n",
       "    </tr>\n",
       "    <tr>\n",
       "      <th>20</th>\n",
       "      <td>75000</td>\n",
       "      <td>124</td>\n",
       "    </tr>\n",
       "    <tr>\n",
       "      <th>21</th>\n",
       "      <td>70000</td>\n",
       "      <td>122</td>\n",
       "    </tr>\n",
       "    <tr>\n",
       "      <th>22</th>\n",
       "      <td>220000</td>\n",
       "      <td>120</td>\n",
       "    </tr>\n",
       "    <tr>\n",
       "      <th>23</th>\n",
       "      <td>95000</td>\n",
       "      <td>112</td>\n",
       "    </tr>\n",
       "    <tr>\n",
       "      <th>24</th>\n",
       "      <td>165000</td>\n",
       "      <td>110</td>\n",
       "    </tr>\n",
       "    <tr>\n",
       "      <th>25</th>\n",
       "      <td>210000</td>\n",
       "      <td>109</td>\n",
       "    </tr>\n",
       "    <tr>\n",
       "      <th>26</th>\n",
       "      <td>250000</td>\n",
       "      <td>108</td>\n",
       "    </tr>\n",
       "    <tr>\n",
       "      <th>27</th>\n",
       "      <td>155000</td>\n",
       "      <td>104</td>\n",
       "    </tr>\n",
       "    <tr>\n",
       "      <th>28</th>\n",
       "      <td>85000</td>\n",
       "      <td>100</td>\n",
       "    </tr>\n",
       "  </tbody>\n",
       "</table>\n",
       "</div>"
      ],
      "text/plain": [
       "    salary_in_usd  count\n",
       "0          150000    342\n",
       "1          100000    316\n",
       "2          130000    299\n",
       "3          160000    286\n",
       "4          140000    265\n",
       "5          120000    252\n",
       "6          200000    218\n",
       "7          110000    203\n",
       "8          180000    201\n",
       "9          170000    188\n",
       "10          90000    164\n",
       "11         145000    163\n",
       "12         136000    162\n",
       "13         175000    158\n",
       "14         135000    156\n",
       "15         115000    146\n",
       "16          80000    140\n",
       "17         190000    140\n",
       "18         185000    138\n",
       "19         125000    133\n",
       "20          75000    124\n",
       "21          70000    122\n",
       "22         220000    120\n",
       "23          95000    112\n",
       "24         165000    110\n",
       "25         210000    109\n",
       "26         250000    108\n",
       "27         155000    104\n",
       "28          85000    100"
      ]
     },
     "execution_count": 5,
     "metadata": {},
     "output_type": "execute_result"
    }
   ],
   "source": [
    "value_counts_df"
   ]
  },
  {
   "cell_type": "code",
   "execution_count": 7,
   "id": "eef27d60",
   "metadata": {
    "ExecuteTime": {
     "end_time": "2024-05-08T00:30:11.519726Z",
     "start_time": "2024-05-08T00:30:11.406542Z"
    }
   },
   "outputs": [
    {
     "data": {
      "text/plain": [
       "<Figure size 640x480 with 0 Axes>"
      ]
     },
     "metadata": {},
     "output_type": "display_data"
    },
    {
     "data": {
      "image/png": "[encoded data removed]",
      "text/plain": [
       "<Figure size 1000x600 with 1 Axes>"
      ]
     },
     "metadata": {},
     "output_type": "display_data"
    }
   ],
   "source": [
    "### 데이터 시각화 맛보기!\n",
    "\n",
    "import matplotlib.pyplot as plt\n",
    "\n",
    "## 그래프 그리기\n",
    "plt.clf()  # plot 초기화\n",
    "plt.figure(figsize=(10, 6))  # figure 사이즈 설정\n",
    "plt.bar(value_counts_df['salary_in_usd'], value_counts_df['count'], color = '#940134', width=1000)\n",
    "plt.xlabel('Salary in USD')  # 그래프의 x축의 label 설정\n",
    "plt.ylabel('Frequency')  # 그래프의 y축의 label 설정\n",
    "plt.title('Distribution of Salary in USD')  # 그래프의 제목 설정\n",
    "plt.xticks(rotation=45)  # x축 레이블 회전\n",
    "#plt.savefig('/Users/daonly/Downloads/yeah.png')\n",
    "plt.show()  # 완성된 plot 확인"
   ]
  },
  {
   "cell_type": "markdown",
   "id": "7ea5fef8",
   "metadata": {},
   "source": [
    "## 참고할만한 사이트\n",
    "여기까지 실습을 마친 여러분! 모두들 고생했어요👏🏻👏🏻\n",
    "</br>사실 오늘 배운 모듈과 라이브러리 관련 내용은 정말 방대해서, 짧은 실습만으로 마스터하긴 어려워요 •᷄ ɞ•᷅\n",
    "</br></br>그래서 더 공부해보고 싶은 친구들을 위해 몇 가지 사이트들을 아래에 공유해드립니다!\n",
    "</br>모듈, 라이브러리와 더 친해지고 싶다면 클릭해보세요👇🏻👇🏻👇🏻\n",
    "</br></br>[오늘 배운 내용이 전반적으로 궁금하다면?]\n",
    "</br>http://bigdata.dongguk.ac.kr/lectures/Python/_book/%EB%AA%A8%EB%93%88-%ED%8C%A8%ED%82%A4%EC%A7%80.html#%EB%AA%A8%EB%93%88%EA%B3%BC-%ED%8C%A8%ED%82%A4%EC%A7%80\n",
    "</br></br>[데이터 분석의 필수템 Pandas! 더 알고 싶다면?]\n",
    "</br>https://dandyrilla.github.io/2017-08-12/pandas-10min/\n",
    "</br></br>[데이터 시각화의 필수템 Matplotlib! 더 알고 싶다면?]\n",
    "</br>https://wikidocs.net/book/5011\n",
    "</br></br>[모듈과 패키지, 직접 코드로 만들어보고 싶다면?]\n",
    "</br>https://kevinitcoding.tistory.com/entry/%ED%8C%8C%EC%9D%B4%EC%8D%ACPython-%EA%B8%B0%EC%B4%88-%EB%AA%A8%EB%93%88%EA%B3%BC-%ED%8C%A8%ED%82%A4%EC%A7%80%EB%A5%BC-%EC%BD%94%EB%93%9C%EB%A1%9C-%EC%A7%81%EC%A0%91-%EA%B5%AC%ED%98%84%ED%95%98%EA%B8%B0\n",
    "</br></br>그럼 언젠가 여러분들이 Python으로 여러분만의 블록 집🏠을 만들어낼 그 날을 응원하며, 다들 예쁜 주말 보내시길 바라요 :)\n",
    "</br>안녀엉🫶🏻🫶🏻"
   ]
  },
  {
   "cell_type": "code",
   "execution_count": null,
   "id": "76db6c4c",
   "metadata": {},
   "outputs": [],
   "source": []
  }
 ],
 "metadata": {
  "kernelspec": {
   "display_name": "Python 3 (ipykernel)",
   "language": "python",
   "name": "python3"
  },
  "language_info": {
   "codemirror_mode": {
    "name": "ipython",
    "version": 3
   },
   "file_extension": ".py",
   "mimetype": "text/x-python",
   "name": "python",
   "nbconvert_exporter": "python",
   "pygments_lexer": "ipython3",
   "version": "3.11.3"
  },
  "toc": {
   "base_numbering": 1,
   "nav_menu": {},
   "number_sections": true,
   "sideBar": true,
   "skip_h1_title": false,
   "title_cell": "Table of Contents",
   "title_sidebar": "Contents",
   "toc_cell": false,
   "toc_position": {},
   "toc_section_display": true,
   "toc_window_display": false
  },
  "varInspector": {
   "cols": {
    "lenName": 16,
    "lenType": 16,
    "lenVar": 40
   },
   "kernels_config": {
    "python": {
     "delete_cmd_postfix": "",
     "delete_cmd_prefix": "del ",
     "library": "var_list.py",
     "varRefreshCmd": "print(var_dic_list())"
    },
    "r": {
     "delete_cmd_postfix": ") ",
     "delete_cmd_prefix": "rm(",
     "library": "var_list.r",
     "varRefreshCmd": "cat(var_dic_list()) "
    }
   },
   "types_to_exclude": [
    "module",
    "function",
    "builtin_function_or_method",
    "instance",
    "_Feature"
   ],
   "window_display": false
  }
 },
 "nbformat": 4,
 "nbformat_minor": 5
}
